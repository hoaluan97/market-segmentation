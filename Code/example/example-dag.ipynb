{
 "cells": [
  {
   "cell_type": "code",
   "execution_count": 1,
   "metadata": {},
   "outputs": [
    {
     "data": {
      "text/plain": [
       "[('Thomas', 1),\n",
       " ('Comment', 1),\n",
       " ('bien', 1),\n",
       " ('Bonjour', 1),\n",
       " ('John', 1),\n",
       " ('Salut', 1),\n",
       " ('tu', 1),\n",
       " ('et', 1),\n",
       " ('vas', 1),\n",
       " ('John?', 1),\n",
       " ('va', 2),\n",
       " ('toi', 1),\n",
       " ('?', 1),\n",
       " ('merci.', 1),\n",
       " ('Ça', 2)]"
      ]
     },
     "execution_count": 1,
     "metadata": {},
     "output_type": "execute_result"
    }
   ],
   "source": [
    "# charger fichier txt au RDD\n",
    "text = sc.textFile('word-count-text.txt', 4)\n",
    "# transformation :déviser le document dans RDD text au liste de mots\n",
    "rdd_1 = text.flatMap(lambda x: x.split())\n",
    "# transformation: créer liste de tuple avec format: [(mot, 1)]\n",
    "rdd_2 = rdd_1.map(lambda x: (x,1))\n",
    "# transformation: combiner les tuples ayant même clé\n",
    "rdd_3 = rdd_2.reduceByKey(lambda x1, x2: x1+x2)\n",
    "# action: convertir RDD de resultat au liste\n",
    "rdd_3.collect()"
   ]
  },
  {
   "cell_type": "code",
   "execution_count": null,
   "metadata": {},
   "outputs": [],
   "source": []
  },
  {
   "cell_type": "code",
   "execution_count": null,
   "metadata": {},
   "outputs": [],
   "source": []
  },
  {
   "cell_type": "code",
   "execution_count": null,
   "metadata": {},
   "outputs": [],
   "source": []
  },
  {
   "cell_type": "code",
   "execution_count": null,
   "metadata": {},
   "outputs": [],
   "source": []
  },
  {
   "cell_type": "code",
   "execution_count": null,
   "metadata": {},
   "outputs": [],
   "source": []
  },
  {
   "cell_type": "code",
   "execution_count": null,
   "metadata": {},
   "outputs": [],
   "source": []
  }
 ],
 "metadata": {
  "kernelspec": {
   "display_name": "Python 3",
   "language": "python",
   "name": "python3"
  },
  "language_info": {
   "codemirror_mode": {
    "name": "ipython",
    "version": 3
   },
   "file_extension": ".py",
   "mimetype": "text/x-python",
   "name": "python",
   "nbconvert_exporter": "python",
   "pygments_lexer": "ipython3",
   "version": "3.6.8"
  }
 },
 "nbformat": 4,
 "nbformat_minor": 2
}
