{
 "cells": [
  {
   "cell_type": "code",
   "execution_count": 1,
   "metadata": {},
   "outputs": [
    {
     "data": {
      "text/plain": [
       "52.07692307692308"
      ]
     },
     "execution_count": 1,
     "metadata": {},
     "output_type": "execute_result"
    }
   ],
   "source": [
    "# load file text to RDD\n",
    "listNumbers = sc.textFile('numbers.txt')\n",
    "# transformation: split above string to number\n",
    "rdd_1 = listNumbers.flatMap(lambda x: x.split(',')[:]) \n",
    "# transformation: create list of tuple with format: [(value, 1)]\n",
    "rdd_2 = rdd_1.map(lambda number: (int(number), 1)) \n",
    "# action: create tuple (sum(value), sum(1))\n",
    "rdd_3 = rdd_2.reduce(lambda n1, n2: (n1[0]+n2[0], n1[1]+n2[1]))\n",
    "# sum(value)/sum(1)\n",
    "mean = rdd_3[0]/rdd_3[1]\n",
    "# result\n",
    "mean"
   ]
  },
  {
   "cell_type": "code",
   "execution_count": null,
   "metadata": {},
   "outputs": [],
   "source": []
  },
  {
   "cell_type": "code",
   "execution_count": null,
   "metadata": {},
   "outputs": [],
   "source": []
  },
  {
   "cell_type": "code",
   "execution_count": null,
   "metadata": {},
   "outputs": [],
   "source": []
  }
 ],
 "metadata": {
  "kernelspec": {
   "display_name": "Python 3",
   "language": "python",
   "name": "python3"
  },
  "language_info": {
   "codemirror_mode": {
    "name": "ipython",
    "version": 3
   },
   "file_extension": ".py",
   "mimetype": "text/x-python",
   "name": "python",
   "nbconvert_exporter": "python",
   "pygments_lexer": "ipython3",
   "version": "3.6.8"
  }
 },
 "nbformat": 4,
 "nbformat_minor": 2
}
